{
 "cells": [
  {
   "cell_type": "code",
   "execution_count": 1,
   "metadata": {},
   "outputs": [],
   "source": [
    "import numpy as np\n",
    "import pandas as pd\n",
    "import os \n",
    "import matplotlib.pyplot as plt"
   ]
  },
  {
   "cell_type": "code",
   "execution_count": 2,
   "metadata": {},
   "outputs": [],
   "source": [
    "df = pd.read_csv('D3.csv')\n"
   ]
  },
  {
   "cell_type": "code",
   "execution_count": 3,
   "metadata": {},
   "outputs": [
    {
     "data": {
      "text/html": [
       "<div>\n",
       "<style scoped>\n",
       "    .dataframe tbody tr th:only-of-type {\n",
       "        vertical-align: middle;\n",
       "    }\n",
       "\n",
       "    .dataframe tbody tr th {\n",
       "        vertical-align: top;\n",
       "    }\n",
       "\n",
       "    .dataframe thead th {\n",
       "        text-align: right;\n",
       "    }\n",
       "</style>\n",
       "<table border=\"1\" class=\"dataframe\">\n",
       "  <thead>\n",
       "    <tr style=\"text-align: right;\">\n",
       "      <th></th>\n",
       "      <th>X1</th>\n",
       "      <th>X2</th>\n",
       "      <th>X3</th>\n",
       "      <th>Y</th>\n",
       "    </tr>\n",
       "  </thead>\n",
       "  <tbody>\n",
       "    <tr>\n",
       "      <th>0</th>\n",
       "      <td>0.000000</td>\n",
       "      <td>3.440000</td>\n",
       "      <td>0.440000</td>\n",
       "      <td>4.387545</td>\n",
       "    </tr>\n",
       "    <tr>\n",
       "      <th>1</th>\n",
       "      <td>0.040404</td>\n",
       "      <td>0.134949</td>\n",
       "      <td>0.888485</td>\n",
       "      <td>2.679650</td>\n",
       "    </tr>\n",
       "    <tr>\n",
       "      <th>2</th>\n",
       "      <td>0.080808</td>\n",
       "      <td>0.829899</td>\n",
       "      <td>1.336970</td>\n",
       "      <td>2.968490</td>\n",
       "    </tr>\n",
       "    <tr>\n",
       "      <th>3</th>\n",
       "      <td>0.121212</td>\n",
       "      <td>1.524848</td>\n",
       "      <td>1.785455</td>\n",
       "      <td>3.254065</td>\n",
       "    </tr>\n",
       "    <tr>\n",
       "      <th>4</th>\n",
       "      <td>0.161616</td>\n",
       "      <td>2.219798</td>\n",
       "      <td>2.233939</td>\n",
       "      <td>3.536375</td>\n",
       "    </tr>\n",
       "  </tbody>\n",
       "</table>\n",
       "</div>"
      ],
      "text/plain": [
       "         X1        X2        X3         Y\n",
       "0  0.000000  3.440000  0.440000  4.387545\n",
       "1  0.040404  0.134949  0.888485  2.679650\n",
       "2  0.080808  0.829899  1.336970  2.968490\n",
       "3  0.121212  1.524848  1.785455  3.254065\n",
       "4  0.161616  2.219798  2.233939  3.536375"
      ]
     },
     "execution_count": 3,
     "metadata": {},
     "output_type": "execute_result"
    }
   ],
   "source": [
    "df.head()"
   ]
  },
  {
   "cell_type": "code",
   "execution_count": 4,
   "metadata": {},
   "outputs": [],
   "source": [
    "x_1 = df.values[:,0]\n",
    "x_2 = df.values[:,1]\n",
    "x_3 = df.values[:,2]\n",
    "Y = df.values[:,3]"
   ]
  },
  {
   "cell_type": "code",
   "execution_count": 5,
   "metadata": {},
   "outputs": [
    {
     "name": "stdout",
     "output_type": "stream",
     "text": [
      "100\n"
     ]
    }
   ],
   "source": [
    "m = len(Y)\n",
    "print(m)"
   ]
  },
  {
   "cell_type": "code",
   "execution_count": 6,
   "metadata": {},
   "outputs": [],
   "source": [
    "x_0 = np.ones((m,1))\n",
    "x_i = [x_1,x_2,x_3]\n",
    "for i in range(len(x_i)):\n",
    "    x_i[i] = x_i[i].reshape(m,1)\n"
   ]
  },
  {
   "cell_type": "code",
   "execution_count": 7,
   "metadata": {},
   "outputs": [],
   "source": [
    "for  i in range(len(x_i)):\n",
    "    x_i[i] = np.hstack((x_0,x_i[i]))\n",
    "\n"
   ]
  },
  {
   "cell_type": "code",
   "execution_count": 8,
   "metadata": {},
   "outputs": [],
   "source": [
    "theta = np.zeros(2)"
   ]
  },
  {
   "cell_type": "code",
   "execution_count": 9,
   "metadata": {},
   "outputs": [],
   "source": [
    "def compute_cost(X, y, theta): \n",
    "  \"\"\" \n",
    "  Compute cost for linear regression. \n",
    " \n",
    "  Input Parameters \n",
    "  ---------------- \n",
    "  X : 2D array where each row represent the training example and each column represent \n",
    "      m= number of training examples \n",
    "      n= number of features (including X_0 column of ones) \n",
    "  y : 1D array of labels/target value for each traing example. dimension(1 x m) \n",
    " \n",
    "  theta : 1D array of fitting parameters or weights. Dimension (1 x n) \n",
    " \n",
    "  Output Parameters \n",
    "  ----------------- \n",
    "  J : Scalar value. \n",
    "  \"\"\" \n",
    "  predictions = X.dot(theta) \n",
    "  errors = np.subtract(predictions, y) \n",
    "  sqrErrors = np.square(errors) \n",
    "  J = 1 / (2 * m) * np.sum(sqrErrors) \n",
    " \n",
    "  return J "
   ]
  },
  {
   "cell_type": "code",
   "execution_count": 10,
   "metadata": {},
   "outputs": [],
   "source": [
    "def gradient_descent(X, y, theta, alpha, iterations): \n",
    "  \"\"\" \n",
    "  Compute cost for linear regression. \n",
    " \n",
    "  Input Parameters \n",
    "  ---------------- \n",
    "  X : 2D array where each row represent the training example and each column represent \n",
    "      m= number of training examples \n",
    "      n= number of features (including X_0 column of ones) \n",
    "  y : 1D array of labels/target value for each traing example. dimension(m x 1) \n",
    "  theta : 1D array of fitting parameters or weights. Dimension (1 x n) \n",
    "  alpha : Learning rate. Scalar value \n",
    "  iterations: No of iterations. Scalar value.  \n",
    " \n",
    "  Output Parameters \n",
    "  ----------------- \n",
    "  theta : Final Value. 1D array of fitting parameters or weights. Dimension (1 x n) \n",
    "  cost_history: Conatins value of cost for each iteration. 1D array. Dimansion(m x 1)   \n",
    "  \"\"\" \n",
    "  cost_history = np.zeros(iterations) \n",
    " \n",
    "  for i in range(iterations): \n",
    "    predictions = X.dot(theta) \n",
    "    errors = np.subtract(predictions, y) \n",
    "    sum_delta = (alpha / m) * X.transpose().dot(errors); \n",
    "    theta = theta - sum_delta; \n",
    "    cost_history[i] = compute_cost(X, y, theta)   \n",
    " \n",
    "  return theta, cost_history "
   ]
  },
  {
   "cell_type": "code",
   "execution_count": 11,
   "metadata": {},
   "outputs": [],
   "source": [
    "final_thetas = np.zeros((3,2))\n",
    "costhistorys = [[]] * 3 \n"
   ]
  },
  {
   "cell_type": "code",
   "execution_count": 12,
   "metadata": {},
   "outputs": [],
   "source": [
    "alpha = .01\n",
    "iterations = 1500\n"
   ]
  },
  {
   "cell_type": "code",
   "execution_count": 13,
   "metadata": {},
   "outputs": [],
   "source": [
    "for i in range(len(costhistorys)):\n",
    "    final_thetas[i,:], costhistorys[i] = gradient_descent(x_i[i], Y, theta, alpha, iterations)"
   ]
  },
  {
   "cell_type": "code",
   "execution_count": 14,
   "metadata": {},
   "outputs": [],
   "source": [
    "old_x = [x_1,x_2,x_3]"
   ]
  },
  {
   "cell_type": "code",
   "execution_count": 15,
   "metadata": {},
   "outputs": [
    {
     "data": {
      "text/plain": [
       "<Figure size 432x288 with 0 Axes>"
      ]
     },
     "metadata": {},
     "output_type": "display_data"
    }
   ],
   "source": [
    "for i in range(len(x_i)):   \n",
    "    plt.scatter(old_x[i], Y, color='red', marker= '+', label= 'Training Data') \n",
    "    plt.plot(x_i[i][:,1], x_i[i].dot(final_thetas[i,:]), color='green', label='Linear Regression') \n",
    "\n",
    "    plt.rcParams[\"figure.figsize\"] = (10,6) \n",
    "    plt.grid() \n",
    "    plt.xlabel('Population of City in 10,000s') \n",
    "    plt.ylabel('Profit in $10,000s') \n",
    "    plt.title('Linear Regression Fit') \n",
    "    plt.legend() \n",
    "    plt.savefig('output'+ str(i) + '.jpg')\n",
    "    plt.clf()\n",
    "    \n",
    "\n",
    "    plt.plot(range(1, iterations + 1),costhistorys[i], color='blue') \n",
    "    plt.rcParams[\"figure.figsize\"] = (10,6) \n",
    "    plt.grid() \n",
    "    plt.xlabel('Number of iterations') \n",
    "    plt.ylabel('Cost (J)') \n",
    "    plt.title('Convergence of gradient descent')\n",
    "    plt.savefig('convergence' + str(i) + '.jpg') \n",
    "    plt.clf()"
   ]
  },
  {
   "cell_type": "markdown",
   "metadata": {},
   "source": [
    "Things that I need to Know to do this HW:  \n",
    "1. How to do the dot product \n",
    "2. how to transpose in python \n",
    "3. need to know how how to do element wise claculations (particularly squaring element wise)"
   ]
  },
  {
   "cell_type": "markdown",
   "metadata": {},
   "source": [
    "# Part 2 "
   ]
  },
  {
   "cell_type": "code",
   "execution_count": 16,
   "metadata": {},
   "outputs": [],
   "source": [
    "df2 = pd.read_csv('D3.csv')\n",
    "iterations2 = 1500\n",
    "alpha2 = .01"
   ]
  },
  {
   "cell_type": "code",
   "execution_count": 17,
   "metadata": {},
   "outputs": [
    {
     "data": {
      "text/html": [
       "<div>\n",
       "<style scoped>\n",
       "    .dataframe tbody tr th:only-of-type {\n",
       "        vertical-align: middle;\n",
       "    }\n",
       "\n",
       "    .dataframe tbody tr th {\n",
       "        vertical-align: top;\n",
       "    }\n",
       "\n",
       "    .dataframe thead th {\n",
       "        text-align: right;\n",
       "    }\n",
       "</style>\n",
       "<table border=\"1\" class=\"dataframe\">\n",
       "  <thead>\n",
       "    <tr style=\"text-align: right;\">\n",
       "      <th></th>\n",
       "      <th>x_0</th>\n",
       "      <th>X1</th>\n",
       "      <th>X2</th>\n",
       "      <th>X3</th>\n",
       "      <th>Y</th>\n",
       "    </tr>\n",
       "  </thead>\n",
       "  <tbody>\n",
       "    <tr>\n",
       "      <th>0</th>\n",
       "      <td>1</td>\n",
       "      <td>0.000000</td>\n",
       "      <td>3.440000</td>\n",
       "      <td>0.440000</td>\n",
       "      <td>4.387545</td>\n",
       "    </tr>\n",
       "    <tr>\n",
       "      <th>1</th>\n",
       "      <td>1</td>\n",
       "      <td>0.040404</td>\n",
       "      <td>0.134949</td>\n",
       "      <td>0.888485</td>\n",
       "      <td>2.679650</td>\n",
       "    </tr>\n",
       "    <tr>\n",
       "      <th>2</th>\n",
       "      <td>1</td>\n",
       "      <td>0.080808</td>\n",
       "      <td>0.829899</td>\n",
       "      <td>1.336970</td>\n",
       "      <td>2.968490</td>\n",
       "    </tr>\n",
       "    <tr>\n",
       "      <th>3</th>\n",
       "      <td>1</td>\n",
       "      <td>0.121212</td>\n",
       "      <td>1.524848</td>\n",
       "      <td>1.785455</td>\n",
       "      <td>3.254065</td>\n",
       "    </tr>\n",
       "    <tr>\n",
       "      <th>4</th>\n",
       "      <td>1</td>\n",
       "      <td>0.161616</td>\n",
       "      <td>2.219798</td>\n",
       "      <td>2.233939</td>\n",
       "      <td>3.536375</td>\n",
       "    </tr>\n",
       "  </tbody>\n",
       "</table>\n",
       "</div>"
      ],
      "text/plain": [
       "   x_0        X1        X2        X3         Y\n",
       "0    1  0.000000  3.440000  0.440000  4.387545\n",
       "1    1  0.040404  0.134949  0.888485  2.679650\n",
       "2    1  0.080808  0.829899  1.336970  2.968490\n",
       "3    1  0.121212  1.524848  1.785455  3.254065\n",
       "4    1  0.161616  2.219798  2.233939  3.536375"
      ]
     },
     "execution_count": 17,
     "metadata": {},
     "output_type": "execute_result"
    }
   ],
   "source": [
    "df2 =  pd.concat([pd.Series(1, index=df.index, name='x_0'), df], axis=1)\n",
    "df2.head()"
   ]
  },
  {
   "cell_type": "code",
   "execution_count": 18,
   "metadata": {},
   "outputs": [],
   "source": [
    "X = df2.drop(columns='Y')\n",
    "Y = df2.values[:,4]"
   ]
  },
  {
   "cell_type": "code",
   "execution_count": 19,
   "metadata": {},
   "outputs": [
    {
     "name": "stdout",
     "output_type": "stream",
     "text": [
      "[0 0 0 0]\n"
     ]
    }
   ],
   "source": [
    "theta = np.array([0]*len(X.columns))\n",
    "print(theta)"
   ]
  },
  {
   "cell_type": "code",
   "execution_count": 20,
   "metadata": {},
   "outputs": [],
   "source": [
    "model, cost_func = gradient_descent(X,Y,theta,alpha2,iterations2)"
   ]
  },
  {
   "cell_type": "code",
   "execution_count": 21,
   "metadata": {},
   "outputs": [
    {
     "data": {
      "text/plain": [
       "<Figure size 720x432 with 0 Axes>"
      ]
     },
     "metadata": {},
     "output_type": "display_data"
    }
   ],
   "source": [
    "plt.plot(range(1, iterations2 + 1),cost_func, color='blue') \n",
    "plt.rcParams[\"figure.figsize\"] = (10,6) \n",
    "plt.grid() \n",
    "plt.xlabel('Number of iterations') \n",
    "plt.ylabel('Cost (J)') \n",
    "plt.title('Convergence of gradient descent')\n",
    "plt.savefig('convergence_part2.jpg') \n",
    "plt.clf()"
   ]
  },
  {
   "cell_type": "code",
   "execution_count": 22,
   "metadata": {},
   "outputs": [
    {
     "name": "stdout",
     "output_type": "stream",
     "text": [
      "x_0    4.151187\n",
      "X1    -1.839429\n",
      "X2     0.724739\n",
      "X3    -0.095133\n",
      "dtype: float64\n"
     ]
    }
   ],
   "source": [
    "print(model)"
   ]
  },
  {
   "cell_type": "code",
   "execution_count": 23,
   "metadata": {},
   "outputs": [],
   "source": [
    "#Data: \n",
    "#Predict the value of y for new (X1, X2, X3) values (1, 1, 1), for (2, 0, 4), and for (3, 2, 1)"
   ]
  },
  {
   "cell_type": "code",
   "execution_count": 24,
   "metadata": {},
   "outputs": [
    {
     "data": {
      "text/html": [
       "<div>\n",
       "<style scoped>\n",
       "    .dataframe tbody tr th:only-of-type {\n",
       "        vertical-align: middle;\n",
       "    }\n",
       "\n",
       "    .dataframe tbody tr th {\n",
       "        vertical-align: top;\n",
       "    }\n",
       "\n",
       "    .dataframe thead th {\n",
       "        text-align: right;\n",
       "    }\n",
       "</style>\n",
       "<table border=\"1\" class=\"dataframe\">\n",
       "  <thead>\n",
       "    <tr style=\"text-align: right;\">\n",
       "      <th></th>\n",
       "      <th>x0New</th>\n",
       "      <th>x1New</th>\n",
       "      <th>x2New</th>\n",
       "      <th>x3New</th>\n",
       "    </tr>\n",
       "  </thead>\n",
       "  <tbody>\n",
       "    <tr>\n",
       "      <th>0</th>\n",
       "      <td>1</td>\n",
       "      <td>1</td>\n",
       "      <td>1</td>\n",
       "      <td>1</td>\n",
       "    </tr>\n",
       "    <tr>\n",
       "      <th>1</th>\n",
       "      <td>1</td>\n",
       "      <td>2</td>\n",
       "      <td>0</td>\n",
       "      <td>4</td>\n",
       "    </tr>\n",
       "    <tr>\n",
       "      <th>2</th>\n",
       "      <td>1</td>\n",
       "      <td>3</td>\n",
       "      <td>2</td>\n",
       "      <td>1</td>\n",
       "    </tr>\n",
       "  </tbody>\n",
       "</table>\n",
       "</div>"
      ],
      "text/plain": [
       "   x0New  x1New  x2New  x3New\n",
       "0      1      1      1      1\n",
       "1      1      2      0      4\n",
       "2      1      3      2      1"
      ]
     },
     "execution_count": 24,
     "metadata": {},
     "output_type": "execute_result"
    }
   ],
   "source": [
    "data = {'x1New' : [1,2,3], 'x2New' : [1,0,2], 'x3New' : [1,4,1]}\n",
    "newDf = pd.DataFrame(data)\n",
    "newDf =  pd.concat([pd.Series(1, index=newDf.index, name='x0New'), newDf], axis=1)\n",
    "newDf.head()\n"
   ]
  },
  {
   "cell_type": "code",
   "execution_count": 26,
   "metadata": {},
   "outputs": [
    {
     "data": {
      "text/plain": [
       "(4,)"
      ]
     },
     "execution_count": 26,
     "metadata": {},
     "output_type": "execute_result"
    }
   ],
   "source": [
    "model.shape"
   ]
  },
  {
   "cell_type": "code",
   "execution_count": 33,
   "metadata": {},
   "outputs": [
    {
     "name": "stdout",
     "output_type": "stream",
     "text": [
      "(4,) (3, 4)\n"
     ]
    }
   ],
   "source": [
    "print(model.shape,newDf.shape)"
   ]
  },
  {
   "cell_type": "code",
   "execution_count": 38,
   "metadata": {},
   "outputs": [],
   "source": [
    "newDf = newDf.to_numpy() #Why!!! \n",
    "model = model.to_numpy()"
   ]
  },
  {
   "cell_type": "code",
   "execution_count": 39,
   "metadata": {},
   "outputs": [],
   "source": [
    "Hypothosis = newDf.dot(model)"
   ]
  },
  {
   "cell_type": "code",
   "execution_count": 40,
   "metadata": {},
   "outputs": [
    {
     "data": {
      "text/plain": [
       "array([ 2.94136408,  0.09179843, -0.01275555])"
      ]
     },
     "execution_count": 40,
     "metadata": {},
     "output_type": "execute_result"
    }
   ],
   "source": [
    "Hypothosis"
   ]
  }
 ],
 "metadata": {
  "kernelspec": {
   "display_name": "Python 3.9.7 ('base')",
   "language": "python",
   "name": "python3"
  },
  "language_info": {
   "codemirror_mode": {
    "name": "ipython",
    "version": 3
   },
   "file_extension": ".py",
   "mimetype": "text/x-python",
   "name": "python",
   "nbconvert_exporter": "python",
   "pygments_lexer": "ipython3",
   "version": "3.9.7"
  },
  "orig_nbformat": 4,
  "vscode": {
   "interpreter": {
    "hash": "2d31b268c8d34cc6f5611edc2fbb7e7c104b3cc2bf760bd0cdc2d363100d4b87"
   }
  }
 },
 "nbformat": 4,
 "nbformat_minor": 2
}
