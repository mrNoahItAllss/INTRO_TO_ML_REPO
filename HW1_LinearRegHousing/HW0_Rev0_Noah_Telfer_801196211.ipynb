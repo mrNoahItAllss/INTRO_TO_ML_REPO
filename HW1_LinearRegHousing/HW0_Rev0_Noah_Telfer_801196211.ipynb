{
 "cells": [
  {
   "cell_type": "code",
   "execution_count": 1,
   "metadata": {},
   "outputs": [],
   "source": [
    "import numpy as np\n",
    "import pandas as pd\n",
    "import matplotlib.pyplot as plt \n",
    "import sklearn as sk \n",
    "from sklearn import preprocessing \n",
    "from sklearn.model_selection import train_test_split\n",
    "import os "
   ]
  },
  {
   "cell_type": "code",
   "execution_count": 2,
   "metadata": {},
   "outputs": [],
   "source": [
    "workdir = os.getcwd();\n",
    "DataDir = r'C:\\Users\\noaht\\Documents\\Intro To ML\\INTRO_TO_ML_REPO\\DataSets'\n",
    "Graph_Str = r'C:\\Users\\noaht\\Documents\\Intro To ML\\INTRO_TO_ML_REPO\\HW1_LinearRegHousing\\HW1_Graphs'\n"
   ]
  },
  {
   "cell_type": "code",
   "execution_count": 3,
   "metadata": {},
   "outputs": [],
   "source": [
    "df = pd.read_csv(DataDir + '/Housing.csv')"
   ]
  },
  {
   "cell_type": "code",
   "execution_count": 4,
   "metadata": {},
   "outputs": [],
   "source": [
    "def compute_cost(X, y, theta): \n",
    "  \"\"\" \n",
    "  Compute cost for linear regression. \n",
    " \n",
    "  Input Parameters \n",
    "  ---------------- \n",
    "  X : 2D array where each row represent the training example and each column represent \n",
    "      m= number of training examples \n",
    "      n= number of features (including X_0 column of ones) \n",
    "  y : 1D array of labels/target value for each traing example. dimension(1 x m) \n",
    " \n",
    "  theta : 1D array of fitting parameters or weights. Dimension (1 x n) \n",
    " \n",
    "  Output Parameters \n",
    "  ----------------- \n",
    "  J : Scalar value. \n",
    "  \"\"\" \n",
    "  m = len(y)\n",
    "  predictions = X.dot(theta) \n",
    "  errors = np.subtract(predictions, y) \n",
    "  sqrErrors = np.square(errors) \n",
    "  J = 1 / (2 * m) * np.sum(sqrErrors) \n",
    " \n",
    "  return J "
   ]
  },
  {
   "cell_type": "code",
   "execution_count": 5,
   "metadata": {},
   "outputs": [],
   "source": [
    "\n",
    "def gradient_descent(X, y, theta, alpha, iterations): \n",
    "  \"\"\" \n",
    "  Compute cost for linear regression. \n",
    " \n",
    "  Input Parameters \n",
    "  ---------------- \n",
    "  X : 2D array where each row represent the training example and each column represent \n",
    "      m= number of training examples \n",
    "      n= number of features (including X_0 column of ones) \n",
    "  y : 1D array of labels/target value for each traing example. dimension(m x 1) \n",
    "  theta : 1D array of fitting parameters or weights. Dimension (1 x n) \n",
    "  alpha : Learning rate. Scalar value \n",
    "  iterations: No of iterations. Scalar value.  \n",
    " \n",
    "  Output Parameters \n",
    "  ----------------- \n",
    "  theta : Final Value. 1D array of fitting parameters or weights. Dimension (1 x n) \n",
    "  cost_history: Conatins value of cost for each iteration. 1D array. Dimansion(m x 1)   \n",
    "  \"\"\" \n",
    "  theta_history = np.array((iterations, len(theta)))\n",
    "  X = pd.concat([pd.Series(1, index=X.index, name='x_0'), X], axis=1)\n",
    "  print(X.head())\n",
    "  m = len(y)\n",
    "  cost_history = np.zeros(iterations) \n",
    "  theta_history = np.zeros((iterations, theta.shape[1]))\n",
    "  for i in range(iterations): \n",
    "    predictions = X.dot(theta) \n",
    "    errors = np.subtract(predictions, y) \n",
    "    sum_delta = (alpha / m) * X.transpose().dot(errors); \n",
    "    theta = theta - sum_delta; \n",
    "    theta_history[i] = theta \n",
    "    cost_history[i] = compute_cost(X, y, theta)   \n",
    " \n",
    "  return theta, cost_history "
   ]
  },
  {
   "cell_type": "markdown",
   "metadata": {},
   "source": [
    "# Clensing of the Data "
   ]
  },
  {
   "cell_type": "code",
   "execution_count": 6,
   "metadata": {},
   "outputs": [
    {
     "name": "stdout",
     "output_type": "stream",
     "text": [
      "price                int64\n",
      "area                 int64\n",
      "bedrooms             int64\n",
      "bathrooms            int64\n",
      "stories              int64\n",
      "mainroad            object\n",
      "guestroom           object\n",
      "basement            object\n",
      "hotwaterheating     object\n",
      "airconditioning     object\n",
      "parking              int64\n",
      "prefarea            object\n",
      "furnishingstatus    object\n",
      "dtype: object\n"
     ]
    },
    {
     "data": {
      "text/html": [
       "<div>\n",
       "<style scoped>\n",
       "    .dataframe tbody tr th:only-of-type {\n",
       "        vertical-align: middle;\n",
       "    }\n",
       "\n",
       "    .dataframe tbody tr th {\n",
       "        vertical-align: top;\n",
       "    }\n",
       "\n",
       "    .dataframe thead th {\n",
       "        text-align: right;\n",
       "    }\n",
       "</style>\n",
       "<table border=\"1\" class=\"dataframe\">\n",
       "  <thead>\n",
       "    <tr style=\"text-align: right;\">\n",
       "      <th></th>\n",
       "      <th>price</th>\n",
       "      <th>area</th>\n",
       "      <th>bedrooms</th>\n",
       "      <th>bathrooms</th>\n",
       "      <th>stories</th>\n",
       "      <th>mainroad</th>\n",
       "      <th>guestroom</th>\n",
       "      <th>basement</th>\n",
       "      <th>hotwaterheating</th>\n",
       "      <th>airconditioning</th>\n",
       "      <th>parking</th>\n",
       "      <th>prefarea</th>\n",
       "      <th>furnishingstatus</th>\n",
       "    </tr>\n",
       "  </thead>\n",
       "  <tbody>\n",
       "    <tr>\n",
       "      <th>0</th>\n",
       "      <td>13300000</td>\n",
       "      <td>7420</td>\n",
       "      <td>4</td>\n",
       "      <td>2</td>\n",
       "      <td>3</td>\n",
       "      <td>yes</td>\n",
       "      <td>no</td>\n",
       "      <td>no</td>\n",
       "      <td>no</td>\n",
       "      <td>yes</td>\n",
       "      <td>2</td>\n",
       "      <td>yes</td>\n",
       "      <td>furnished</td>\n",
       "    </tr>\n",
       "    <tr>\n",
       "      <th>1</th>\n",
       "      <td>12250000</td>\n",
       "      <td>8960</td>\n",
       "      <td>4</td>\n",
       "      <td>4</td>\n",
       "      <td>4</td>\n",
       "      <td>yes</td>\n",
       "      <td>no</td>\n",
       "      <td>no</td>\n",
       "      <td>no</td>\n",
       "      <td>yes</td>\n",
       "      <td>3</td>\n",
       "      <td>no</td>\n",
       "      <td>furnished</td>\n",
       "    </tr>\n",
       "    <tr>\n",
       "      <th>2</th>\n",
       "      <td>12250000</td>\n",
       "      <td>9960</td>\n",
       "      <td>3</td>\n",
       "      <td>2</td>\n",
       "      <td>2</td>\n",
       "      <td>yes</td>\n",
       "      <td>no</td>\n",
       "      <td>yes</td>\n",
       "      <td>no</td>\n",
       "      <td>no</td>\n",
       "      <td>2</td>\n",
       "      <td>yes</td>\n",
       "      <td>semi-furnished</td>\n",
       "    </tr>\n",
       "    <tr>\n",
       "      <th>3</th>\n",
       "      <td>12215000</td>\n",
       "      <td>7500</td>\n",
       "      <td>4</td>\n",
       "      <td>2</td>\n",
       "      <td>2</td>\n",
       "      <td>yes</td>\n",
       "      <td>no</td>\n",
       "      <td>yes</td>\n",
       "      <td>no</td>\n",
       "      <td>yes</td>\n",
       "      <td>3</td>\n",
       "      <td>yes</td>\n",
       "      <td>furnished</td>\n",
       "    </tr>\n",
       "    <tr>\n",
       "      <th>4</th>\n",
       "      <td>11410000</td>\n",
       "      <td>7420</td>\n",
       "      <td>4</td>\n",
       "      <td>1</td>\n",
       "      <td>2</td>\n",
       "      <td>yes</td>\n",
       "      <td>yes</td>\n",
       "      <td>yes</td>\n",
       "      <td>no</td>\n",
       "      <td>yes</td>\n",
       "      <td>2</td>\n",
       "      <td>no</td>\n",
       "      <td>furnished</td>\n",
       "    </tr>\n",
       "  </tbody>\n",
       "</table>\n",
       "</div>"
      ],
      "text/plain": [
       "      price  area  bedrooms  bathrooms  stories mainroad guestroom basement  \\\n",
       "0  13300000  7420         4          2        3      yes        no       no   \n",
       "1  12250000  8960         4          4        4      yes        no       no   \n",
       "2  12250000  9960         3          2        2      yes        no      yes   \n",
       "3  12215000  7500         4          2        2      yes        no      yes   \n",
       "4  11410000  7420         4          1        2      yes       yes      yes   \n",
       "\n",
       "  hotwaterheating airconditioning  parking prefarea furnishingstatus  \n",
       "0              no             yes        2      yes        furnished  \n",
       "1              no             yes        3       no        furnished  \n",
       "2              no              no        2      yes   semi-furnished  \n",
       "3              no             yes        3      yes        furnished  \n",
       "4              no             yes        2       no        furnished  "
      ]
     },
     "execution_count": 6,
     "metadata": {},
     "output_type": "execute_result"
    }
   ],
   "source": [
    "print(df.dtypes)\n",
    "df.head()"
   ]
  },
  {
   "cell_type": "code",
   "execution_count": 7,
   "metadata": {},
   "outputs": [],
   "source": [
    "def catToUseful(df):\n",
    "    newDf = df\n",
    "    col = df.columns.tolist()\n",
    "    types = df.dtypes\n",
    "    for i in range(len(col)):\n",
    "\n",
    "        if types[i] == 'object' or types[i] == 'str':\n",
    "            newDf[col[i]] = df[col[i]].astype('category').cat.codes\n",
    "        else: \n",
    "            newDf[col[i]] = df[col[i]]\n",
    "    return newDf"
   ]
  },
  {
   "cell_type": "code",
   "execution_count": 8,
   "metadata": {},
   "outputs": [],
   "source": [
    "# use standardScalar and normilization \n",
    "#  normal example preprocessing.Normalizer().fit(X)  \n",
    "#  statdard example  preprocessing.StandardScaler().fit(X_train)\n",
    "def standardize(df):\n",
    "    # Standardization\n",
    "    col = df.columns\n",
    "    scale = preprocessing.StandardScaler().fit(df)\n",
    "    df[col] = scale.transform(df[col]) \n",
    "    return df\n",
    "\n",
    "def normalize(df):\n",
    "    col = df.columns\n",
    "    norm = preprocessing.Normalizer().fit(df)\n",
    "    df[col] = norm.transform(df[col]) \n",
    "    return df "
   ]
  },
  {
   "cell_type": "code",
   "execution_count": 9,
   "metadata": {},
   "outputs": [],
   "source": [
    "# gather data \n",
    "df = catToUseful(df)\n",
    "X_val = df.drop(columns = 'price')\n",
    "Y_val = df['price']\n",
    "df_p2 = normalize(standardize(df))\n",
    "X_val2 = df_p2.drop(columns = 'price')\n",
    "Y_val2 = df_p2['price']"
   ]
  },
  {
   "cell_type": "code",
   "execution_count": 10,
   "metadata": {},
   "outputs": [],
   "source": [
    "# split data \n",
    "X_train1, X_test1, Y_train1, Y_test1 = train_test_split(X_val, Y_val, test_size = .2, random_state = 69)\n",
    "X_train2, X_test2, Y_train2, Y_test2 = train_test_split(X_val2, Y_val2, test_size = .2, random_state = 69)"
   ]
  },
  {
   "cell_type": "code",
   "execution_count": 11,
   "metadata": {},
   "outputs": [
    {
     "data": {
      "text/plain": [
       "445   -0.231070\n",
       "181    0.064488\n",
       "130    0.176081\n",
       "296   -0.125819\n",
       "38     0.369145\n",
       "         ...   \n",
       "278   -0.085424\n",
       "404   -0.208855\n",
       "439   -0.218812\n",
       "203    0.032696\n",
       "54     0.397076\n",
       "Name: price, Length: 436, dtype: float64"
      ]
     },
     "execution_count": 11,
     "metadata": {},
     "output_type": "execute_result"
    }
   ],
   "source": [
    "Y_train2"
   ]
  },
  {
   "cell_type": "code",
   "execution_count": 12,
   "metadata": {},
   "outputs": [],
   "source": [
    "# 1 Develop gradient for these Columns: \n",
    "# area, bedrooms, bathrooms, stories, parking\n",
    "\n",
    "# 2 Develop gradient for these columns: \n",
    "# Area, bedrooms, bathrooms, stories, mainroad, guestroom, basement, hotwaterheating, airconditioning, parking, prefarea"
   ]
  },
  {
   "cell_type": "code",
   "execution_count": 13,
   "metadata": {},
   "outputs": [],
   "source": [
    "# Define Variables\n",
    "col_p1 = ['area', 'bedrooms', 'bathrooms', 'stories', 'parking']\n",
    "col_p2 = ['area', 'bedrooms', 'bathrooms', 'stories', 'mainroad', 'guestroom', 'basement', 'hotwaterheating', 'airconditioning', 'parking', 'prefarea']\n",
    "X_train1_1 = X_train1[col_p1]\n",
    "X_train1_2 = X_train1[col_p2] \n",
    "theta = np.array([0]*(len(X_train1_1.columns)+1))\n",
    "alpha = .01 \n",
    "iterations = 500 "
   ]
  },
  {
   "cell_type": "code",
   "execution_count": 19,
   "metadata": {},
   "outputs": [
    {
     "data": {
      "text/plain": [
       "array([500,   6])"
      ]
     },
     "execution_count": 19,
     "metadata": {},
     "output_type": "execute_result"
    }
   ],
   "source": []
  },
  {
   "cell_type": "code",
   "execution_count": 14,
   "metadata": {},
   "outputs": [
    {
     "data": {
      "text/plain": [
       "6"
      ]
     },
     "execution_count": 14,
     "metadata": {},
     "output_type": "execute_result"
    }
   ],
   "source": [
    "theta.shape[0]"
   ]
  },
  {
   "cell_type": "code",
   "execution_count": 15,
   "metadata": {},
   "outputs": [
    {
     "name": "stdout",
     "output_type": "stream",
     "text": [
      "     x_0  area  bedrooms  bathrooms  stories  parking\n",
      "445    1  3450         1          1        1        0\n",
      "181    1  7200         3          1        2        1\n",
      "130    1  4800         3          1        1        0\n",
      "296    1  4600         3          2        2        1\n",
      "38     1  6000         3          1        4        2\n"
     ]
    },
    {
     "ename": "IndexError",
     "evalue": "tuple index out of range",
     "output_type": "error",
     "traceback": [
      "\u001b[1;31m---------------------------------------------------------------------------\u001b[0m",
      "\u001b[1;31mIndexError\u001b[0m                                Traceback (most recent call last)",
      "\u001b[1;32m~\\AppData\\Local\\Temp/ipykernel_18492/2927698247.py\u001b[0m in \u001b[0;36m<module>\u001b[1;34m\u001b[0m\n\u001b[1;32m----> 1\u001b[1;33m \u001b[0mmodel\u001b[0m\u001b[1;33m,\u001b[0m \u001b[0mcost_func\u001b[0m \u001b[1;33m=\u001b[0m \u001b[0mgradient_descent\u001b[0m\u001b[1;33m(\u001b[0m\u001b[0mX_train1_1\u001b[0m\u001b[1;33m,\u001b[0m \u001b[0mY_train1\u001b[0m\u001b[1;33m,\u001b[0m \u001b[0mtheta\u001b[0m\u001b[1;33m,\u001b[0m \u001b[1;36m.000000001\u001b[0m\u001b[1;33m,\u001b[0m \u001b[0miterations\u001b[0m\u001b[1;33m)\u001b[0m\u001b[1;33m\u001b[0m\u001b[1;33m\u001b[0m\u001b[0m\n\u001b[0m",
      "\u001b[1;32m~\\AppData\\Local\\Temp/ipykernel_18492/3618932359.py\u001b[0m in \u001b[0;36mgradient_descent\u001b[1;34m(X, y, theta, alpha, iterations)\u001b[0m\n\u001b[0;32m     22\u001b[0m   \u001b[0mm\u001b[0m \u001b[1;33m=\u001b[0m \u001b[0mlen\u001b[0m\u001b[1;33m(\u001b[0m\u001b[0my\u001b[0m\u001b[1;33m)\u001b[0m\u001b[1;33m\u001b[0m\u001b[1;33m\u001b[0m\u001b[0m\n\u001b[0;32m     23\u001b[0m   \u001b[0mcost_history\u001b[0m \u001b[1;33m=\u001b[0m \u001b[0mnp\u001b[0m\u001b[1;33m.\u001b[0m\u001b[0mzeros\u001b[0m\u001b[1;33m(\u001b[0m\u001b[0miterations\u001b[0m\u001b[1;33m)\u001b[0m\u001b[1;33m\u001b[0m\u001b[1;33m\u001b[0m\u001b[0m\n\u001b[1;32m---> 24\u001b[1;33m   \u001b[0mtheta_history\u001b[0m \u001b[1;33m=\u001b[0m \u001b[0mnp\u001b[0m\u001b[1;33m.\u001b[0m\u001b[0mzeros\u001b[0m\u001b[1;33m(\u001b[0m\u001b[1;33m(\u001b[0m\u001b[0miterations\u001b[0m\u001b[1;33m,\u001b[0m \u001b[0mtheta\u001b[0m\u001b[1;33m.\u001b[0m\u001b[0mshape\u001b[0m\u001b[1;33m[\u001b[0m\u001b[1;36m1\u001b[0m\u001b[1;33m]\u001b[0m\u001b[1;33m)\u001b[0m\u001b[1;33m)\u001b[0m\u001b[1;33m\u001b[0m\u001b[1;33m\u001b[0m\u001b[0m\n\u001b[0m\u001b[0;32m     25\u001b[0m   \u001b[1;32mfor\u001b[0m \u001b[0mi\u001b[0m \u001b[1;32min\u001b[0m \u001b[0mrange\u001b[0m\u001b[1;33m(\u001b[0m\u001b[0miterations\u001b[0m\u001b[1;33m)\u001b[0m\u001b[1;33m:\u001b[0m\u001b[1;33m\u001b[0m\u001b[1;33m\u001b[0m\u001b[0m\n\u001b[0;32m     26\u001b[0m     \u001b[0mpredictions\u001b[0m \u001b[1;33m=\u001b[0m \u001b[0mX\u001b[0m\u001b[1;33m.\u001b[0m\u001b[0mdot\u001b[0m\u001b[1;33m(\u001b[0m\u001b[0mtheta\u001b[0m\u001b[1;33m)\u001b[0m\u001b[1;33m\u001b[0m\u001b[1;33m\u001b[0m\u001b[0m\n",
      "\u001b[1;31mIndexError\u001b[0m: tuple index out of range"
     ]
    }
   ],
   "source": [
    "model, cost_func = gradient_descent(X_train1_1, Y_train1, theta, .000000001, iterations)"
   ]
  },
  {
   "cell_type": "code",
   "execution_count": null,
   "metadata": {},
   "outputs": [
    {
     "data": {
      "text/plain": [
       "x_0               -2.577764e-08\n",
       "area               1.611436e-06\n",
       "bedrooms          -4.520187e-08\n",
       "bathrooms         -1.847083e-09\n",
       "stories           -4.709643e-09\n",
       "mainroad          -1.139260e-08\n",
       "guestroom          8.955068e-09\n",
       "basement           2.713048e-09\n",
       "hotwaterheating    4.499435e-10\n",
       "airconditioning    2.017628e-08\n",
       "parking            1.680898e-08\n",
       "prefarea           1.126510e-08\n",
       "dtype: float64"
      ]
     },
     "execution_count": 15,
     "metadata": {},
     "output_type": "execute_result"
    }
   ],
   "source": [
    "model"
   ]
  },
  {
   "cell_type": "code",
   "execution_count": null,
   "metadata": {},
   "outputs": [
    {
     "data": {
      "image/png": "[encoded data removed]",
      "text/plain": [
       "<Figure size 432x288 with 1 Axes>"
      ]
     },
     "metadata": {
      "needs_background": "light"
     },
     "output_type": "display_data"
    }
   ],
   "source": [
    "plt.plot(range(1, iterations + 1),cost_func, color='blue') \n",
    "plt.rcParams[\"figure.figsize\"] = (10,6) \n",
    "plt.grid() \n",
    "plt.xlabel('Number of iterations') \n",
    "plt.ylabel('Cost (J)') \n",
    "plt.title('Convergence of gradient descent for entire model')\n",
    "plt.savefig('convergence_part2.jpg') \n"
   ]
  }
 ],
 "metadata": {
  "kernelspec": {
   "display_name": "Python 3.9.7 ('base')",
   "language": "python",
   "name": "python3"
  },
  "language_info": {
   "codemirror_mode": {
    "name": "ipython",
    "version": 3
   },
   "file_extension": ".py",
   "mimetype": "text/x-python",
   "name": "python",
   "nbconvert_exporter": "python",
   "pygments_lexer": "ipython3",
   "version": "3.9.7"
  },
  "orig_nbformat": 4,
  "vscode": {
   "interpreter": {
    "hash": "2d31b268c8d34cc6f5611edc2fbb7e7c104b3cc2bf760bd0cdc2d363100d4b87"
   }
  }
 },
 "nbformat": 4,
 "nbformat_minor": 2
}
